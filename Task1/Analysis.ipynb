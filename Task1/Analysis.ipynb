version https://git-lfs.github.com/spec/v1
oid sha256:17994e27d29ff930f08f32d98bb48445e27edf1e6a85361aa402bf5296fa2035
size 138854430
